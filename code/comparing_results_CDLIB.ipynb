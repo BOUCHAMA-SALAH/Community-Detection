{
  "nbformat": 4,
  "nbformat_minor": 0,
  "metadata": {
    "colab": {
      "name": "comparing_results_CDLIB.ipynb",
      "provenance": [],
      "collapsed_sections": []
    },
    "kernelspec": {
      "name": "python3",
      "display_name": "Python 3"
    },
    "language_info": {
      "name": "python"
    }
  },
  "cells": [
    {
      "cell_type": "markdown",
      "source": [
        "### Comparing results from each method\n",
        "We will use CDlib liberary to compare generated partitions on each graph. we compute three measures : The hub dominance of a community,The average distance and the average embeddedness of nodes within the community."
      ],
      "metadata": {
        "id": "9yzziP6OrjjD"
      }
    },
    {
      "cell_type": "code",
      "source": [
        "! pip install cdlib"
      ],
      "metadata": {
        "id": "AMczCKd_SONT"
      },
      "execution_count": null,
      "outputs": []
    },
    {
      "cell_type": "code",
      "source": [
        "from cdlib.evaluation import *\n",
        "from cdlib import NodeClustering\n",
        "from scipy.sparse import csr_matrix\n",
        "from scipy.io import mmread\n",
        "import networkx as nx\n",
        "methods   = ['kmeans', 'louvain', 'lpa']\n",
        "datasets  = ['CA-AstroPh', 'CA-GrQc',  'CA-HepPh', 'CA-HepTh' ]\n",
        "measures  = ['avg_distance', 'avg_embeddedness', 'avg_internal_degree', 'hub_dominance']\n",
        "graphs  = dict()\n",
        "for dataset in datasets:\n",
        "    m = mmread('data_' + dataset + '.mtx')\n",
        "    graphs[dataset] = nx.from_scipy_sparse_matrix(m)"
      ],
      "metadata": {
        "id": "svV5R4SVvECy"
      },
      "execution_count": 5,
      "outputs": []
    },
    {
      "cell_type": "markdown",
      "source": [
        " ##### reading graphs from .mtx files "
      ],
      "metadata": {
        "id": "75GSKm84suGT"
      }
    },
    {
      "cell_type": "code",
      "source": [
        "def get_partition_from_file(file = ''):\n",
        "    communities = dict()\n",
        "    with open(file, 'r') as f:\n",
        "       content = f.readlines()\n",
        "    for l in content[:-1]:\n",
        "       n = int(l.split(':')[0])\n",
        "       c = int(l.split(':')[1])\n",
        "       try : \n",
        "         communities[c].append(n)\n",
        "       except:\n",
        "         communities[c] = [n]\n",
        "    partition = NodeClustering(list(communities.values()), graph=None)\n",
        "    return partition"
      ],
      "metadata": {
        "id": "tlu68UITHm7H"
      },
      "execution_count": 6,
      "outputs": []
    },
    {
      "cell_type": "markdown",
      "source": [
        "###### saving results in a dict() results"
      ],
      "metadata": {
        "id": "SXnsTl-wsjrt"
      }
    },
    {
      "cell_type": "code",
      "source": [
        "results = dict()\n",
        "for d in datasets:\n",
        "  results[d] = dict()\n",
        "  for m in methods : \n",
        "      print( d + '  ' + m)\n",
        "      partition = get_partition_from_file(file = 'results_' + m + '_node_to_community.' + d )\n",
        "      # avg_distance \n",
        "      results[d][m] = { 'avg_distance' : avg_distance(graphs[d], partition ), \n",
        "                        'avg_embeddedness': avg_embeddedness(graphs[d], partition ),\n",
        "                        'hub_dominance' : hub_dominance(graphs[d], partition )\n",
        "                    }\n"
      ],
      "metadata": {
        "id": "KY-EibEWHRaD",
        "colab": {
          "base_uri": "https://localhost:8080/"
        },
        "outputId": "254ac0cf-1210-42df-e397-b4164fa992e1"
      },
      "execution_count": 7,
      "outputs": [
        {
          "output_type": "stream",
          "name": "stdout",
          "text": [
            "CA-AstroPh  kmeans\n",
            "CA-AstroPh  louvain\n",
            "CA-AstroPh  lpa\n",
            "CA-GrQc  kmeans\n",
            "CA-GrQc  louvain\n",
            "CA-GrQc  lpa\n",
            "CA-HepPh  kmeans\n",
            "CA-HepPh  louvain\n",
            "CA-HepPh  lpa\n",
            "CA-HepTh  kmeans\n",
            "CA-HepTh  louvain\n",
            "CA-HepTh  lpa\n"
          ]
        }
      ]
    },
    {
      "cell_type": "markdown",
      "source": [
        "##### Saving results in a csv file "
      ],
      "metadata": {
        "id": "E6i0SVYesz_e"
      }
    },
    {
      "cell_type": "code",
      "source": [
        "with open('comparing_methods.csv', 'w') as file:\n",
        "  file.write('dataset,method,avg_distance,avg_embeddedness,hub_dominance \\n')\n",
        "  for d in datasets:\n",
        "    for m in methods:\n",
        "      file.write(d + ',' + m + ',' + str(results[d][m]['avg_distance'][2]) + ',' +\\\n",
        "                 str(results[d][m]['avg_embeddedness'][2]) + ',' + str(results[d][m]['hub_dominance'][2]) + '\\n')"
      ],
      "metadata": {
        "id": "rXUdymgolwDM"
      },
      "execution_count": 20,
      "outputs": []
    },
    {
      "cell_type": "markdown",
      "source": [
        "##### Visualization of results : "
      ],
      "metadata": {
        "id": "DT_d70cytwuv"
      }
    },
    {
      "cell_type": "code",
      "source": [
        "import pandas as pd\n",
        "\n",
        "df = pd.read_csv('comparing_methods.csv')\n",
        "df"
      ],
      "metadata": {
        "colab": {
          "base_uri": "https://localhost:8080/",
          "height": 426
        },
        "id": "fsTfLLxUtvvi",
        "outputId": "2f5880c5-cdb1-4a81-edc2-d6ebe3b723fa"
      },
      "execution_count": 21,
      "outputs": [
        {
          "output_type": "execute_result",
          "data": {
            "text/plain": [
              "       dataset   method  avg_distance  avg_embeddedness  hub_dominance \n",
              "0   CA-AstroPh   kmeans      2.333726          0.731245        0.492994\n",
              "1   CA-AstroPh  louvain      1.317355          0.979792        0.921361\n",
              "2   CA-AstroPh      lpa      1.157246          0.751978        0.972243\n",
              "3      CA-GrQc   kmeans      1.892426          0.887565        0.697484\n",
              "4      CA-GrQc  louvain      1.366557          0.993867        0.936171\n",
              "5      CA-GrQc      lpa      1.275682          0.805266        0.953015\n",
              "6     CA-HepPh   kmeans      2.427062          0.806913        0.530313\n",
              "7     CA-HepPh  louvain      1.299755          0.984621        0.937755\n",
              "8     CA-HepPh      lpa      1.238455          0.740193        0.955700\n",
              "9     CA-HepTh   kmeans      2.387306          0.845102        0.535344\n",
              "10    CA-HepTh  louvain      1.436242          0.989203        0.918699\n",
              "11    CA-HepTh      lpa      1.338828          0.758086        0.932667"
            ],
            "text/html": [
              "\n",
              "  <div id=\"df-111374c8-e584-4080-8d78-e39104b00fce\">\n",
              "    <div class=\"colab-df-container\">\n",
              "      <div>\n",
              "<style scoped>\n",
              "    .dataframe tbody tr th:only-of-type {\n",
              "        vertical-align: middle;\n",
              "    }\n",
              "\n",
              "    .dataframe tbody tr th {\n",
              "        vertical-align: top;\n",
              "    }\n",
              "\n",
              "    .dataframe thead th {\n",
              "        text-align: right;\n",
              "    }\n",
              "</style>\n",
              "<table border=\"1\" class=\"dataframe\">\n",
              "  <thead>\n",
              "    <tr style=\"text-align: right;\">\n",
              "      <th></th>\n",
              "      <th>dataset</th>\n",
              "      <th>method</th>\n",
              "      <th>avg_distance</th>\n",
              "      <th>avg_embeddedness</th>\n",
              "      <th>hub_dominance</th>\n",
              "    </tr>\n",
              "  </thead>\n",
              "  <tbody>\n",
              "    <tr>\n",
              "      <th>0</th>\n",
              "      <td>CA-AstroPh</td>\n",
              "      <td>kmeans</td>\n",
              "      <td>2.333726</td>\n",
              "      <td>0.731245</td>\n",
              "      <td>0.492994</td>\n",
              "    </tr>\n",
              "    <tr>\n",
              "      <th>1</th>\n",
              "      <td>CA-AstroPh</td>\n",
              "      <td>louvain</td>\n",
              "      <td>1.317355</td>\n",
              "      <td>0.979792</td>\n",
              "      <td>0.921361</td>\n",
              "    </tr>\n",
              "    <tr>\n",
              "      <th>2</th>\n",
              "      <td>CA-AstroPh</td>\n",
              "      <td>lpa</td>\n",
              "      <td>1.157246</td>\n",
              "      <td>0.751978</td>\n",
              "      <td>0.972243</td>\n",
              "    </tr>\n",
              "    <tr>\n",
              "      <th>3</th>\n",
              "      <td>CA-GrQc</td>\n",
              "      <td>kmeans</td>\n",
              "      <td>1.892426</td>\n",
              "      <td>0.887565</td>\n",
              "      <td>0.697484</td>\n",
              "    </tr>\n",
              "    <tr>\n",
              "      <th>4</th>\n",
              "      <td>CA-GrQc</td>\n",
              "      <td>louvain</td>\n",
              "      <td>1.366557</td>\n",
              "      <td>0.993867</td>\n",
              "      <td>0.936171</td>\n",
              "    </tr>\n",
              "    <tr>\n",
              "      <th>5</th>\n",
              "      <td>CA-GrQc</td>\n",
              "      <td>lpa</td>\n",
              "      <td>1.275682</td>\n",
              "      <td>0.805266</td>\n",
              "      <td>0.953015</td>\n",
              "    </tr>\n",
              "    <tr>\n",
              "      <th>6</th>\n",
              "      <td>CA-HepPh</td>\n",
              "      <td>kmeans</td>\n",
              "      <td>2.427062</td>\n",
              "      <td>0.806913</td>\n",
              "      <td>0.530313</td>\n",
              "    </tr>\n",
              "    <tr>\n",
              "      <th>7</th>\n",
              "      <td>CA-HepPh</td>\n",
              "      <td>louvain</td>\n",
              "      <td>1.299755</td>\n",
              "      <td>0.984621</td>\n",
              "      <td>0.937755</td>\n",
              "    </tr>\n",
              "    <tr>\n",
              "      <th>8</th>\n",
              "      <td>CA-HepPh</td>\n",
              "      <td>lpa</td>\n",
              "      <td>1.238455</td>\n",
              "      <td>0.740193</td>\n",
              "      <td>0.955700</td>\n",
              "    </tr>\n",
              "    <tr>\n",
              "      <th>9</th>\n",
              "      <td>CA-HepTh</td>\n",
              "      <td>kmeans</td>\n",
              "      <td>2.387306</td>\n",
              "      <td>0.845102</td>\n",
              "      <td>0.535344</td>\n",
              "    </tr>\n",
              "    <tr>\n",
              "      <th>10</th>\n",
              "      <td>CA-HepTh</td>\n",
              "      <td>louvain</td>\n",
              "      <td>1.436242</td>\n",
              "      <td>0.989203</td>\n",
              "      <td>0.918699</td>\n",
              "    </tr>\n",
              "    <tr>\n",
              "      <th>11</th>\n",
              "      <td>CA-HepTh</td>\n",
              "      <td>lpa</td>\n",
              "      <td>1.338828</td>\n",
              "      <td>0.758086</td>\n",
              "      <td>0.932667</td>\n",
              "    </tr>\n",
              "  </tbody>\n",
              "</table>\n",
              "</div>\n",
              "      <button class=\"colab-df-convert\" onclick=\"convertToInteractive('df-111374c8-e584-4080-8d78-e39104b00fce')\"\n",
              "              title=\"Convert this dataframe to an interactive table.\"\n",
              "              style=\"display:none;\">\n",
              "        \n",
              "  <svg xmlns=\"http://www.w3.org/2000/svg\" height=\"24px\"viewBox=\"0 0 24 24\"\n",
              "       width=\"24px\">\n",
              "    <path d=\"M0 0h24v24H0V0z\" fill=\"none\"/>\n",
              "    <path d=\"M18.56 5.44l.94 2.06.94-2.06 2.06-.94-2.06-.94-.94-2.06-.94 2.06-2.06.94zm-11 1L8.5 8.5l.94-2.06 2.06-.94-2.06-.94L8.5 2.5l-.94 2.06-2.06.94zm10 10l.94 2.06.94-2.06 2.06-.94-2.06-.94-.94-2.06-.94 2.06-2.06.94z\"/><path d=\"M17.41 7.96l-1.37-1.37c-.4-.4-.92-.59-1.43-.59-.52 0-1.04.2-1.43.59L10.3 9.45l-7.72 7.72c-.78.78-.78 2.05 0 2.83L4 21.41c.39.39.9.59 1.41.59.51 0 1.02-.2 1.41-.59l7.78-7.78 2.81-2.81c.8-.78.8-2.07 0-2.86zM5.41 20L4 18.59l7.72-7.72 1.47 1.35L5.41 20z\"/>\n",
              "  </svg>\n",
              "      </button>\n",
              "      \n",
              "  <style>\n",
              "    .colab-df-container {\n",
              "      display:flex;\n",
              "      flex-wrap:wrap;\n",
              "      gap: 12px;\n",
              "    }\n",
              "\n",
              "    .colab-df-convert {\n",
              "      background-color: #E8F0FE;\n",
              "      border: none;\n",
              "      border-radius: 50%;\n",
              "      cursor: pointer;\n",
              "      display: none;\n",
              "      fill: #1967D2;\n",
              "      height: 32px;\n",
              "      padding: 0 0 0 0;\n",
              "      width: 32px;\n",
              "    }\n",
              "\n",
              "    .colab-df-convert:hover {\n",
              "      background-color: #E2EBFA;\n",
              "      box-shadow: 0px 1px 2px rgba(60, 64, 67, 0.3), 0px 1px 3px 1px rgba(60, 64, 67, 0.15);\n",
              "      fill: #174EA6;\n",
              "    }\n",
              "\n",
              "    [theme=dark] .colab-df-convert {\n",
              "      background-color: #3B4455;\n",
              "      fill: #D2E3FC;\n",
              "    }\n",
              "\n",
              "    [theme=dark] .colab-df-convert:hover {\n",
              "      background-color: #434B5C;\n",
              "      box-shadow: 0px 1px 3px 1px rgba(0, 0, 0, 0.15);\n",
              "      filter: drop-shadow(0px 1px 2px rgba(0, 0, 0, 0.3));\n",
              "      fill: #FFFFFF;\n",
              "    }\n",
              "  </style>\n",
              "\n",
              "      <script>\n",
              "        const buttonEl =\n",
              "          document.querySelector('#df-111374c8-e584-4080-8d78-e39104b00fce button.colab-df-convert');\n",
              "        buttonEl.style.display =\n",
              "          google.colab.kernel.accessAllowed ? 'block' : 'none';\n",
              "\n",
              "        async function convertToInteractive(key) {\n",
              "          const element = document.querySelector('#df-111374c8-e584-4080-8d78-e39104b00fce');\n",
              "          const dataTable =\n",
              "            await google.colab.kernel.invokeFunction('convertToInteractive',\n",
              "                                                     [key], {});\n",
              "          if (!dataTable) return;\n",
              "\n",
              "          const docLinkHtml = 'Like what you see? Visit the ' +\n",
              "            '<a target=\"_blank\" href=https://colab.research.google.com/notebooks/data_table.ipynb>data table notebook</a>'\n",
              "            + ' to learn more about interactive tables.';\n",
              "          element.innerHTML = '';\n",
              "          dataTable['output_type'] = 'display_data';\n",
              "          await google.colab.output.renderOutput(dataTable, element);\n",
              "          const docLink = document.createElement('div');\n",
              "          docLink.innerHTML = docLinkHtml;\n",
              "          element.appendChild(docLink);\n",
              "        }\n",
              "      </script>\n",
              "    </div>\n",
              "  </div>\n",
              "  "
            ]
          },
          "metadata": {},
          "execution_count": 21
        }
      ]
    },
    {
      "cell_type": "code",
      "source": [
        "import numpy as np \n",
        "import matplotlib.pyplot as plt \n",
        "\n",
        "X = set(list(df['dataset']))\n",
        "X_axis = np.arange(len(X))\n",
        "kmeans =  df.loc[df['method'] == 'kmeans']\n",
        "lpa =  df.loc[df['method'] == 'lpa']\n",
        "louvain = df.loc[df['method'] == 'louvain']\n",
        "print(X_axis)\n",
        "plt.bar(X_axis - 0.3, list(kmeans['avg_distance']), 0.2, label = 'kmeans')\n",
        "plt.bar(X_axis - 0.1, list(lpa['avg_distance']), 0.2, label = 'lpa')\n",
        "plt.bar(X_axis + 0.1, list(louvain['avg_distance']), 0.2, label = 'louvain')\n",
        "plt.xticks(X_axis, X)\n",
        "plt.xlabel(\"networks\")\n",
        "plt.ylabel(\"score\")\n",
        "plt.title(\"avg_distance score of each method\")\n",
        "plt.legend()\n",
        "plt.show()"
      ],
      "metadata": {
        "colab": {
          "base_uri": "https://localhost:8080/",
          "height": 312
        },
        "id": "3a8Lbk2gup5v",
        "outputId": "4f211527-2980-4815-e01e-06aaecbfcab8"
      },
      "execution_count": 42,
      "outputs": [
        {
          "output_type": "stream",
          "name": "stdout",
          "text": [
            "[0 1 2 3]\n"
          ]
        },
        {
          "output_type": "display_data",
          "data": {
            "text/plain": [
              "<Figure size 432x288 with 1 Axes>"
            ],
            "image/png": "[encoded data removed]"
          },
          "metadata": {
            "needs_background": "light"
          }
        }
      ]
    },
    {
      "cell_type": "code",
      "source": [
        "X = set(list(df['dataset']))\n",
        "X_axis = np.arange(len(X))\n",
        "kmeans =  df.loc[df['method'] == 'kmeans']\n",
        "lpa =  df.loc[df['method'] == 'lpa']\n",
        "louvain = df.loc[df['method'] == 'louvain']\n",
        "print(X_axis)\n",
        "plt.bar(X_axis - 0.3, list(kmeans['avg_embeddedness']), 0.2, label = 'kmeans')\n",
        "plt.bar(X_axis - 0.1, list(lpa['avg_embeddedness']), 0.2, label = 'lpa')\n",
        "plt.bar(X_axis + 0.1, list(louvain['avg_embeddedness']), 0.2, label = 'louvain')\n",
        "plt.xticks(X_axis, X)\n",
        "plt.xlabel(\"networks\")\n",
        "plt.ylabel(\"score\")\n",
        "plt.title(\"avg_embeddedness score of each method\")\n",
        "plt.legend()\n",
        "plt.show()"
      ],
      "metadata": {
        "colab": {
          "base_uri": "https://localhost:8080/",
          "height": 312
        },
        "id": "f62yYxLj06Vx",
        "outputId": "1fa0e41a-3c54-49b4-ef06-29a0c3122821"
      },
      "execution_count": 43,
      "outputs": [
        {
          "output_type": "stream",
          "name": "stdout",
          "text": [
            "[0 1 2 3]\n"
          ]
        },
        {
          "output_type": "display_data",
          "data": {
            "text/plain": [
              "<Figure size 432x288 with 1 Axes>"
            ],
            "image/png": "[encoded data removed]"
          },
          "metadata": {
            "needs_background": "light"
          }
        }
      ]
    },
    {
      "cell_type": "code",
      "source": [
        "X = set(list(df['dataset']))\n",
        "X_axis = np.arange(len(X))\n",
        "kmeans =  df.loc[df['method'] == 'kmeans']\n",
        "lpa =  df.loc[df['method'] == 'lpa']\n",
        "louvain = df.loc[df['method'] == 'louvain']\n",
        "print(X_axis)\n",
        "plt.bar(X_axis - 0.3, list(kmeans['hub_dominance ']), 0.2, label = 'kmeans')\n",
        "plt.bar(X_axis - 0.1, list(lpa['hub_dominance ']), 0.2, label = 'lpa')\n",
        "plt.bar(X_axis + 0.1, list(louvain['hub_dominance ']), 0.2, label = 'louvain')\n",
        "plt.xticks(X_axis, X)\n",
        "plt.xlabel(\"networks\")\n",
        "plt.ylabel(\"score\")\n",
        "plt.title(\"hub_dominance score of each method\")\n",
        "plt.legend()\n",
        "plt.show()"
      ],
      "metadata": {
        "colab": {
          "base_uri": "https://localhost:8080/",
          "height": 312
        },
        "id": "Ej2PNHVv1Fnm",
        "outputId": "b9b3f0c0-a2da-46bb-b0a0-c93c2a00af13"
      },
      "execution_count": 50,
      "outputs": [
        {
          "output_type": "stream",
          "name": "stdout",
          "text": [
            "[0 1 2 3]\n"
          ]
        },
        {
          "output_type": "display_data",
          "data": {
            "text/plain": [
              "<Figure size 432x288 with 1 Axes>"
            ],
            "image/png": "[encoded data removed]"
          },
          "metadata": {
            "needs_background": "light"
          }
        }
      ]
    }
  ]
}